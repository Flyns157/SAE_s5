{
 "cells": [
  {
   "cell_type": "markdown",
   "metadata": {},
   "source": [
    "# SAE Project : API for Generatives Images"
   ]
  },
  {
   "cell_type": "markdown",
   "metadata": {},
   "source": [
    "#### Group names : CUISSET Mattéo, VANBANDON Théo, COPIN Lucas, MOUTON Thomas, WAELES Swann, DELCAMBRE Jean-Alexis\n",
    "#### Antwert special guest : VAN CAMP Loic"
   ]
  },
  {
   "cell_type": "markdown",
   "metadata": {},
   "source": [
    "## Setup project"
   ]
  },
  {
   "cell_type": "code",
   "execution_count": null,
   "metadata": {},
   "outputs": [],
   "source": [
    "!pip install -r requirement.txt"
   ]
  },
  {
   "cell_type": "code",
   "execution_count": 6,
   "metadata": {},
   "outputs": [],
   "source": [
    "import torch\n",
    "import requests\n",
    "import PIL.Image\n",
    "from io import BytesIO\n",
    "import requests\n",
    "import json\n",
    "import matplotlib.pyplot as plt\n",
    "import os"
   ]
  },
  {
   "cell_type": "code",
   "execution_count": 3,
   "metadata": {},
   "outputs": [],
   "source": [
    "headers = {'Content-Type': 'application/json'}"
   ]
  },
  {
   "cell_type": "markdown",
   "metadata": {},
   "source": [
    "**To ensure the API works**, please execute the following commands. <br>\n",
    "This will install the necessary tool for PowerPaint"
   ]
  },
  {
   "cell_type": "code",
   "execution_count": null,
   "metadata": {},
   "outputs": [],
   "source": [
    "os.chdir('./selfhost_stablediffusion_api/generator')\n",
    "!git lfs clone https://huggingface.co/JunhaoZhuang/PowerPaint_v2/ ./content/checkpoints/\n",
    "!git clone https://github.com/open-mmlab/PowerPaint.git\n",
    "os.chdir('../../')"
   ]
  },
  {
   "cell_type": "markdown",
   "metadata": {},
   "source": [
    "**Launch the API by using the following command in a terminal (make sure you are in this working directory) :**\n",
    "\n",
    "*python -m selfhost_stablediffusion_api --debug*"
   ]
  },
  {
   "cell_type": "markdown",
   "metadata": {},
   "source": [
    "If you have some problems with the module \"Inpainting\", just remove the 'Inpaiting' from the tab \"__all__\" in the file \"selfhost_stablediffusion_api\\generator\\__init__.py\" .<br>\n",
    "By doing this, features 3 and 5 won't work but the others will work"
   ]
  },
  {
   "cell_type": "markdown",
   "metadata": {},
   "source": [
    "## Initialize image and mask"
   ]
  },
  {
   "cell_type": "markdown",
   "metadata": {},
   "source": [
    "By the following, we're gonna use an image and his mask, you can upload it here.\n",
    "<br> We recommend you to use the PNG format if you want to make sure that the Generative IA will is compatible with you image"
   ]
  },
  {
   "cell_type": "code",
   "execution_count": null,
   "metadata": {},
   "outputs": [],
   "source": [
    "def download_image(url):\n",
    "    response = requests.get(url)\n",
    "    return PIL.Image.open(BytesIO(response.content)).convert(\"RGB\")"
   ]
  },
  {
   "cell_type": "markdown",
   "metadata": {},
   "source": [
    "You can download an image from the web using this function. <br>\n",
    "Replace the string by the file url in corresponding variables"
   ]
  },
  {
   "cell_type": "code",
   "execution_count": null,
   "metadata": {},
   "outputs": [],
   "source": [
    "init_image = download_image(\"put_your_url_here.github.com\")\n",
    "mask_image = download_image(\"put_your_url_here.github.com\")"
   ]
  },
  {
   "cell_type": "markdown",
   "metadata": {},
   "source": [
    "You can use an image on your computer. <br>\n",
    "Replace the string by the file path in corresponding variables"
   ]
  },
  {
   "cell_type": "code",
   "execution_count": null,
   "metadata": {},
   "outputs": [],
   "source": [
    "init_image = PIL.Image.open(\"put_your_path_here.png\")\n",
    "mask_image = PIL.Image.open(\"put_your_path_here.png\")"
   ]
  },
  {
   "cell_type": "markdown",
   "metadata": {},
   "source": [
    "You can still modify these previous variables when you want to change your image."
   ]
  },
  {
   "cell_type": "markdown",
   "metadata": {},
   "source": [
    "## Feature \\#1 : Generation with Text To Image"
   ]
  },
  {
   "cell_type": "markdown",
   "metadata": {},
   "source": [
    "### Case 1 : We want to generate a post"
   ]
  },
  {
   "cell_type": "markdown",
   "metadata": {},
   "source": [
    "We define the constants. <br>\n",
    "You can change differents parameters in the dictionnary"
   ]
  },
  {
   "cell_type": "code",
   "execution_count": null,
   "metadata": {},
   "outputs": [],
   "source": [
    "data = {\n",
    "    'prompt': 'Write your prompt here',\n",
    "    'guidance_scale': 7.5,\n",
    "    'num_inference_steps' : 50,\n",
    "    'negative_prompt' : [\"an object that you don't wanna see\",\"another\"]\n",
    "}"
   ]
  },
  {
   "cell_type": "markdown",
   "metadata": {},
   "source": [
    "Launch the query and look at the result image"
   ]
  },
  {
   "cell_type": "code",
   "execution_count": null,
   "metadata": {},
   "outputs": [],
   "source": [
    "url = \"http://localhost:8080/txt2img/post\"\n",
    "#If you have some problems with the url, you can replace 'localhost' by '127.0.0.1'\n",
    "\n",
    "response = requests.post(url, headers=headers, json=data)\n",
    "\n",
    "try:\n",
    "    error_message = response.json()\n",
    "    if 'error' in error_message:\n",
    "        print(f\"Error: {error_message['error']}\")\n",
    "except ValueError:\n",
    "    if response.status_code != 200:\n",
    "        print(f\"Unknow error, HTTP code : {response.status_code}\")\n",
    "    else:\n",
    "        image = PIL.Image.open(BytesIO(response.content))\n",
    "        plt.imshow(image)\n",
    "        plt.title(\"Result image\")\n",
    "        plt.axis('off') \n",
    "        plt.show()"
   ]
  },
  {
   "cell_type": "markdown",
   "metadata": {},
   "source": [
    "### Case 2 : We want to generate an avatar"
   ]
  },
  {
   "cell_type": "markdown",
   "metadata": {},
   "source": [
    "We define the constants. <br>\n",
    "You can change differents parameters in the dictionnary"
   ]
  },
  {
   "cell_type": "markdown",
   "metadata": {},
   "source": [
    "#### Make a picture :"
   ]
  },
  {
   "cell_type": "code",
   "execution_count": null,
   "metadata": {},
   "outputs": [],
   "source": [
    "data = {\n",
    "    'picture' : 'picture',\n",
    "    'picture_type' : \"choose your\", #you can choose between \"people, animal or background\"\n",
    "    'descriptionPeople' : [\"gender\",\"hair_color\",\"hair_length\",\"haircut\",\"nationality\",\"eye_color\"], #don't forget to modify the values if you choose 'people', else put an empty list\n",
    "    'descriptionAnimal' : [\"animal\",\"gender\",\"body_color\",\"heigth\",\"environement\"], #don't forget to modify the values if you choose 'animal', else put an empty list\n",
    "    'descriptionBackground' : [\"your favorite color\",\"your favorite sport\",\"favorite animal\",\"favorite song\",\"favorite dish\",\"job\",\"hero\"] #don't forget to modify the values if you choose 'background', else put an empty list\n",
    "}"
   ]
  },
  {
   "cell_type": "markdown",
   "metadata": {},
   "source": [
    "#### Make a paiting :"
   ]
  },
  {
   "cell_type": "code",
   "execution_count": null,
   "metadata": {},
   "outputs": [],
   "source": [
    "data = {\n",
    "    'picture' : 'paiting',\n",
    "    'picture_type' : \"choose your\", #you can choose between \"people, animal or background\"\n",
    "    'descriptionPeople' : [\"gender\",\"hair_color\",\"hair_length\",\"haircut\",\"nationality\",\"eye_color\"], #don't forget to modify the values if you choose 'people', else put an empty list\n",
    "    'descriptionAnimal' : [\"animal\",\"gender\",\"body_color\",\"heigth\",\"environement\"], #don't forget to modify the values if you choose 'animal', else put an empty list\n",
    "    'descriptionBackground' : [\"your favorite color\",\"your favorite sport\",\"favorite animal\",\"favorite song\",\"favorite dish\",\"job\",\"hero\"], #don't forget to modify the values if you choose 'background', else put an empty list\n",
    "    'artist' : \"an artist like Pablo Picasso\"\n",
    "}"
   ]
  },
  {
   "cell_type": "markdown",
   "metadata": {},
   "source": [
    "#### The result"
   ]
  },
  {
   "cell_type": "markdown",
   "metadata": {},
   "source": [
    "Launch the query and look at the result image"
   ]
  },
  {
   "cell_type": "code",
   "execution_count": null,
   "metadata": {},
   "outputs": [],
   "source": [
    "url = \"http://localhost:8080/txt2img/avatar\"\n",
    "#If you have some problems with the url, you can replace 'localhost' by '127.0.0.1'\n",
    "\n",
    "response = requests.post(url, headers=headers, json=data)\n",
    "\n",
    "try:\n",
    "    error_message = response.json()\n",
    "    if 'error' in error_message:\n",
    "        print(f\"Error: {error_message['error']}\")\n",
    "except ValueError:\n",
    "    if response.status_code != 200:\n",
    "        print(f\"Unknow error, HTTP code : {response.status_code}\")\n",
    "    else:\n",
    "        image = PIL.Image.open(BytesIO(response.content))\n",
    "        plt.imshow(image)\n",
    "        plt.title(\"Result image\")\n",
    "        plt.axis('off') \n",
    "        plt.show()"
   ]
  },
  {
   "cell_type": "markdown",
   "metadata": {},
   "source": [
    "## Feature \\#2 : Generation with Image To Image"
   ]
  },
  {
   "cell_type": "markdown",
   "metadata": {},
   "source": [
    "We define the constants. <br>\n",
    "You can change differents parameters in the dictionnary"
   ]
  },
  {
   "cell_type": "code",
   "execution_count": null,
   "metadata": {},
   "outputs": [],
   "source": [
    "data = {\n",
    "    'prompt': 'Write your prompt here',\n",
    "    'strength': 0.75,\n",
    "    'num_inference_steps' : 50,\n",
    "    'image' : init_image\n",
    "}"
   ]
  },
  {
   "cell_type": "markdown",
   "metadata": {},
   "source": [
    "Launch the query and look at the result image"
   ]
  },
  {
   "cell_type": "code",
   "execution_count": null,
   "metadata": {},
   "outputs": [],
   "source": [
    "url = \"http://localhost:8080/img2img\"\n",
    "#If you have some problems with the url, you can replace 'localhost' by '127.0.0.1'\n",
    "\n",
    "response = requests.post(url, headers=headers, json=data)\n",
    "\n",
    "try:\n",
    "    error_message = response.json()\n",
    "    if 'error' in error_message:\n",
    "        print(f\"Error: {error_message['error']}\")\n",
    "except ValueError:\n",
    "    if response.status_code != 200:\n",
    "        print(f\"Unknow error, HTTP code : {response.status_code}\")\n",
    "    else:\n",
    "        image = PIL.Image.open(BytesIO(response.content))\n",
    "        plt.imshow(image)\n",
    "        plt.title(\"Result image\")\n",
    "        plt.axis('off') \n",
    "        plt.show()"
   ]
  },
  {
   "cell_type": "markdown",
   "metadata": {},
   "source": [
    "## Feature \\#3 : Generation with Inpaiting"
   ]
  },
  {
   "cell_type": "markdown",
   "metadata": {},
   "source": [
    "We define the constants. <br>\n",
    "You can change differents parameters in the dictionnary"
   ]
  },
  {
   "cell_type": "markdown",
   "metadata": {},
   "source": [
    "#### By provide a mask"
   ]
  },
  {
   "cell_type": "code",
   "execution_count": null,
   "metadata": {},
   "outputs": [],
   "source": [
    "data = {\n",
    "    'strategy' : 'Choose your strategy', #You can choose the strategy, type 1 for \"Local editing\", 2 for \"Object removal\" and 3 for \"Object additionnal\"\n",
    "    'prompt': 'Write your prompt here',\n",
    "    'image' : init_image,\n",
    "    'mask' : mask_image\n",
    "}"
   ]
  },
  {
   "cell_type": "markdown",
   "metadata": {},
   "source": [
    "#### Without provide a mask"
   ]
  },
  {
   "cell_type": "markdown",
   "metadata": {},
   "source": [
    "The mask will be generated automatically"
   ]
  },
  {
   "cell_type": "code",
   "execution_count": null,
   "metadata": {},
   "outputs": [],
   "source": [
    "data = {\n",
    "    'strategy' : 'Choose your strategy', #You can choose the strategy, type 1 for \"Local editing\", 2 for \"Object removal\" and 3 for \"Object additionnal\"\n",
    "    'prompt': 'Write your prompt here',\n",
    "    'image' : init_image\n",
    "}"
   ]
  },
  {
   "cell_type": "markdown",
   "metadata": {},
   "source": [
    "#### The result"
   ]
  },
  {
   "cell_type": "markdown",
   "metadata": {},
   "source": [
    "Launch the query and look at the result image"
   ]
  },
  {
   "cell_type": "code",
   "execution_count": null,
   "metadata": {},
   "outputs": [],
   "source": [
    "url = \"http://localhost:8080/impaiting\"\n",
    "#If you have some problems with the url, you can replace 'localhost' by '127.0.0.1'\n",
    "\n",
    "response = requests.post(url, headers=headers, json=data)\n",
    "\n",
    "try:\n",
    "    error_message = response.json()\n",
    "    if 'error' in error_message:\n",
    "        print(f\"Error: {error_message['error']}\")\n",
    "except ValueError:\n",
    "    if response.status_code != 200:\n",
    "        print(f\"Unknow error, HTTP code : {response.status_code}\")\n",
    "    else:\n",
    "        image = PIL.Image.open(BytesIO(response.content))\n",
    "        plt.imshow(image)\n",
    "        plt.title(\"Result image\")\n",
    "        plt.axis('off') \n",
    "        plt.show()"
   ]
  },
  {
   "cell_type": "markdown",
   "metadata": {},
   "source": [
    "## Feature \\#4 : Text To Image with FineTuning"
   ]
  },
  {
   "cell_type": "markdown",
   "metadata": {},
   "source": [
    "This part is currently not implemented in our API, sorry for the inconvenience but you can find all methods if you want to test them."
   ]
  },
  {
   "cell_type": "markdown",
   "metadata": {},
   "source": [
    "## Feature \\#5 : Text To Inpaiting with FineTuning"
   ]
  },
  {
   "cell_type": "markdown",
   "metadata": {},
   "source": [
    "We define the constants. <br>\n",
    "You can change differents parameters in the dictionnary"
   ]
  },
  {
   "cell_type": "markdown",
   "metadata": {},
   "source": [
    "#### By provide a mask"
   ]
  },
  {
   "cell_type": "code",
   "execution_count": null,
   "metadata": {},
   "outputs": [],
   "source": [
    "data = {\n",
    "    'train_prompt_instance' : \"Write your training prompt here\",\n",
    "    'class_prompt' : 'Describe what is in the training images',\n",
    "    'input_image' : init_image,\n",
    "    'user_prompt' : \"Write your prompt here, this one is for the result image\",\n",
    "    'strength' : 0.6,\n",
    "    'training_images' : [\"an image to train the model\",\"another\"], #You can use PIL.Image.open to open your images, like we did for the init_image and mask_image\n",
    "    'user_mask' : mask_image\n",
    "}"
   ]
  },
  {
   "cell_type": "markdown",
   "metadata": {},
   "source": [
    "#### Without provide a mask"
   ]
  },
  {
   "cell_type": "code",
   "execution_count": null,
   "metadata": {},
   "outputs": [],
   "source": [
    "data = {\n",
    "    'train_prompt_instance' : \"Write your training prompt here\",\n",
    "    'class_prompt' : 'Describe what is in the training images',\n",
    "    'input_image' : init_image,\n",
    "    'user_prompt' : \"Write your prompt here, this one is for the result image\",\n",
    "    'strength' : 0.6,\n",
    "    'training_images' : [\"an image to train the model\",\"another\"], #You can use PIL.Image.open to open your images, like we did for the init_image and mask_image\n",
    "}"
   ]
  },
  {
   "cell_type": "markdown",
   "metadata": {},
   "source": [
    "#### The result"
   ]
  },
  {
   "cell_type": "markdown",
   "metadata": {},
   "source": [
    "Launch the query and look at the result image"
   ]
  },
  {
   "cell_type": "code",
   "execution_count": null,
   "metadata": {},
   "outputs": [],
   "source": [
    "url = \"http://localhost:8080/fine-inpaiting\"\n",
    "#If you have some problems with the url, you can replace 'localhost' by '127.0.0.1'\n",
    "\n",
    "response = requests.post(url, headers=headers, json=data)\n",
    "\n",
    "try:\n",
    "    error_message = response.json()\n",
    "    if 'error' in error_message:\n",
    "        print(f\"Error: {error_message['error']}\")\n",
    "except ValueError:\n",
    "    if response.status_code != 200:\n",
    "        print(f\"Unknow error, HTTP code : {response.status_code}\")\n",
    "    else:\n",
    "        image = PIL.Image.open(BytesIO(response.content))\n",
    "        plt.imshow(image)\n",
    "        plt.title(\"Result image\")\n",
    "        plt.axis('off') \n",
    "        plt.show()"
   ]
  }
 ],
 "metadata": {
  "kernelspec": {
   "display_name": "Python 3",
   "language": "python",
   "name": "python3"
  },
  "language_info": {
   "codemirror_mode": {
    "name": "ipython",
    "version": 3
   },
   "file_extension": ".py",
   "mimetype": "text/x-python",
   "name": "python",
   "nbconvert_exporter": "python",
   "pygments_lexer": "ipython3",
   "version": "3.10.11"
  }
 },
 "nbformat": 4,
 "nbformat_minor": 2
}
